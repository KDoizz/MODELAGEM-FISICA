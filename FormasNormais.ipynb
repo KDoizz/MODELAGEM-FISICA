{
  "nbformat": 4,
  "nbformat_minor": 0,
  "metadata": {
    "colab": {
      "provenance": [],
      "include_colab_link": true
    },
    "kernelspec": {
      "name": "python3",
      "display_name": "Python 3"
    },
    "language_info": {
      "name": "python"
    }
  },
  "cells": [
    {
      "cell_type": "markdown",
      "metadata": {
        "id": "view-in-github",
        "colab_type": "text"
      },
      "source": [
        "<a href=\"https://colab.research.google.com/github/KDoizz/MODELAGEM-FISICA/blob/TRABALHOS-FRANK/FormasNormais.ipynb\" target=\"_parent\"><img src=\"https://colab.research.google.com/assets/colab-badge.svg\" alt=\"Open In Colab\"/></a>"
      ]
    },
    {
      "cell_type": "code",
      "execution_count": 2,
      "metadata": {
        "id": "OPMmM6PAxb1x",
        "outputId": "63fe3dc9-63a0-45c9-c07c-bf91e1df7bb5",
        "colab": {
          "base_uri": "https://localhost:8080/",
          "height": 944
        }
      },
      "outputs": [
        {
          "output_type": "stream",
          "name": "stdout",
          "text": [
            "\n",
            "\n",
            "Fórmula original 1 (LaTeX):\n"
          ]
        },
        {
          "output_type": "display_data",
          "data": {
            "text/plain": [
              "<IPython.core.display.Latex object>"
            ],
            "text/latex": "$\\forall x (P(x) \\wedge Q(x))$"
          },
          "metadata": {}
        },
        {
          "output_type": "stream",
          "name": "stdout",
          "text": [
            "Fórmula Normal Conjuntiva (FNC) (LaTeX):\n"
          ]
        },
        {
          "output_type": "display_data",
          "data": {
            "text/plain": [
              "<IPython.core.display.Latex object>"
            ],
            "text/latex": "$\\forall x (P(x) \\wedge Q(x))$"
          },
          "metadata": {}
        },
        {
          "output_type": "stream",
          "name": "stdout",
          "text": [
            "Fórmula Normal Conjuntiva (FNC) (LaTeX):\n"
          ]
        },
        {
          "output_type": "display_data",
          "data": {
            "text/plain": [
              "<IPython.core.display.Latex object>"
            ],
            "text/latex": "$\\forall x (P(x) \\wedge Q(x))$"
          },
          "metadata": {}
        },
        {
          "output_type": "stream",
          "name": "stdout",
          "text": [
            "\n",
            "\n",
            "\n",
            "\n",
            "Fórmula original 2 (LaTeX):\n"
          ]
        },
        {
          "output_type": "display_data",
          "data": {
            "text/plain": [
              "<IPython.core.display.Latex object>"
            ],
            "text/latex": "$\\exists y (R(y) \\vee S(y))$"
          },
          "metadata": {}
        },
        {
          "output_type": "stream",
          "name": "stdout",
          "text": [
            "Fórmula Normal Conjuntiva (FNC) (LaTeX):\n"
          ]
        },
        {
          "output_type": "display_data",
          "data": {
            "text/plain": [
              "<IPython.core.display.Latex object>"
            ],
            "text/latex": "$\\exists y (R(y) \\vee S(y))$"
          },
          "metadata": {}
        },
        {
          "output_type": "stream",
          "name": "stdout",
          "text": [
            "Fórmula Normal Conjuntiva (FNC) (LaTeX):\n"
          ]
        },
        {
          "output_type": "display_data",
          "data": {
            "text/plain": [
              "<IPython.core.display.Latex object>"
            ],
            "text/latex": "$\\exists y (R(y) \\vee S(y))$"
          },
          "metadata": {}
        },
        {
          "output_type": "stream",
          "name": "stdout",
          "text": [
            "\n",
            "\n",
            "\n",
            "\n",
            "Fórmula original 3 (LaTeX):\n"
          ]
        },
        {
          "output_type": "display_data",
          "data": {
            "text/plain": [
              "<IPython.core.display.Latex object>"
            ],
            "text/latex": "$\\neg (A \\rightarrow B)$"
          },
          "metadata": {}
        },
        {
          "output_type": "stream",
          "name": "stdout",
          "text": [
            "Fórmula Normal Conjuntiva (FNC) (LaTeX):\n"
          ]
        },
        {
          "output_type": "display_data",
          "data": {
            "text/plain": [
              "<IPython.core.display.Latex object>"
            ],
            "text/latex": "$\\neg (A \\rightarrow B)$"
          },
          "metadata": {}
        },
        {
          "output_type": "stream",
          "name": "stdout",
          "text": [
            "Fórmula Normal Conjuntiva (FNC) (LaTeX):\n"
          ]
        },
        {
          "output_type": "display_data",
          "data": {
            "text/plain": [
              "<IPython.core.display.Latex object>"
            ],
            "text/latex": "$\\neg (A \\rightarrow B)$"
          },
          "metadata": {}
        },
        {
          "output_type": "stream",
          "name": "stdout",
          "text": [
            "\n",
            "\n",
            "\n",
            "\n",
            "Fórmula original 4 (LaTeX):\n"
          ]
        },
        {
          "output_type": "display_data",
          "data": {
            "text/plain": [
              "<IPython.core.display.Latex object>"
            ],
            "text/latex": "$\\forall z (C(z) \\leftrightarrow D(z))$"
          },
          "metadata": {}
        },
        {
          "output_type": "stream",
          "name": "stdout",
          "text": [
            "Fórmula Normal Conjuntiva (FNC) (LaTeX):\n"
          ]
        },
        {
          "output_type": "display_data",
          "data": {
            "text/plain": [
              "<IPython.core.display.Latex object>"
            ],
            "text/latex": "$\\forall z (C(z) \\leftrightarrow D(z))$"
          },
          "metadata": {}
        },
        {
          "output_type": "stream",
          "name": "stdout",
          "text": [
            "Fórmula Normal Conjuntiva (FNC) (LaTeX):\n"
          ]
        },
        {
          "output_type": "display_data",
          "data": {
            "text/plain": [
              "<IPython.core.display.Latex object>"
            ],
            "text/latex": "$\\forall z (C(z) \\leftrightarrow D(z))$"
          },
          "metadata": {}
        },
        {
          "output_type": "stream",
          "name": "stdout",
          "text": [
            "\n",
            "\n",
            "\n",
            "\n",
            "Fórmula original 5 (LaTeX):\n"
          ]
        },
        {
          "output_type": "display_data",
          "data": {
            "text/plain": [
              "<IPython.core.display.Latex object>"
            ],
            "text/latex": "$\\neg \\exists w (E(w))$"
          },
          "metadata": {}
        },
        {
          "output_type": "stream",
          "name": "stdout",
          "text": [
            "Fórmula Normal Conjuntiva (FNC) (LaTeX):\n"
          ]
        },
        {
          "output_type": "display_data",
          "data": {
            "text/plain": [
              "<IPython.core.display.Latex object>"
            ],
            "text/latex": "$\\neg \\exists w (E(w))$"
          },
          "metadata": {}
        },
        {
          "output_type": "stream",
          "name": "stdout",
          "text": [
            "Fórmula Normal Conjuntiva (FNC) (LaTeX):\n"
          ]
        },
        {
          "output_type": "display_data",
          "data": {
            "text/plain": [
              "<IPython.core.display.Latex object>"
            ],
            "text/latex": "$\\neg \\exists w (E(w))$"
          },
          "metadata": {}
        },
        {
          "output_type": "stream",
          "name": "stdout",
          "text": [
            "\n",
            "\n"
          ]
        }
      ],
      "source": [
        "# Alunos: Laura Hundzinski e Antonio Victor, BCC 4B, manhã\n",
        "from IPython.display import display, Latex as L\n",
        "\n",
        "def convert_to_latex(formula):\n",
        "    latex_dict = {\n",
        "        '∀': '\\\\forall',\n",
        "        '∃': '\\\\exists',\n",
        "        '~': '\\\\neg',\n",
        "        '∧': '\\\\land',\n",
        "        '∨': '\\\\lor',\n",
        "        '->': '\\\\rightarrow',\n",
        "        '<->': '\\\\leftrightarrow',\n",
        "        '≡': '\\\\equiv'\n",
        "    }\n",
        "\n",
        "    for key, value in latex_dict.items():\n",
        "        formula = formula.replace(key, value)\n",
        "\n",
        "    return formula\n",
        "\n",
        "def normalize_formula(F, formula):\n",
        "    if F == 1:\n",
        "        formula = formula.replace('<->', '∧(∧)')\n",
        "        formula = formula.replace('->', '∧(¬)')\n",
        "        while '∧(∨)' in formula:\n",
        "            pos = formula.find('∧(∨)')\n",
        "            left_bracket = formula.rfind('(', 0, pos)\n",
        "            right_bracket = formula.find(')', pos)\n",
        "            disjunction = formula[left_bracket + 1: right_bracket]\n",
        "            conjunction = formula[right_bracket + 1: right_bracket + 5]\n",
        "            formula = formula[:left_bracket] + '(' + disjunction.replace('∨', conjunction) + ')' + formula[right_bracket + 5:]\n",
        "        while '∨(∧)' in formula:\n",
        "            pos = formula.find('∨(∧)')\n",
        "            left_bracket = formula.rfind('(', 0, pos)\n",
        "            right_bracket = formula.find(')', pos)\n",
        "            conjunction = formula[left_bracket + 1: right_bracket]\n",
        "            disjunction = formula[right_bracket + 1: right_bracket + 4]\n",
        "            formula = formula[:left_bracket] + '(' + disjunction.replace('∧', conjunction) + ')' + formula[right_bracket + 4:]\n",
        "        return formula\n",
        "\n",
        "    elif F == 2:\n",
        "        formula = formula.replace('<->', '∨(∧)')\n",
        "        formula = formula.replace('->', '∨(¬)')\n",
        "        while '∨(∧)' in formula:\n",
        "            pos = formula.find('∨(∧)')\n",
        "            left_bracket = formula.rfind('(', 0, pos)\n",
        "            right_bracket = formula.find(')', pos)\n",
        "            conjunction = formula[left_bracket + 1: right_bracket]\n",
        "            disjunction = formula[right_bracket + 1: right_bracket + 4]\n",
        "            formula = formula[:left_bracket] + '(' + disjunction.replace('∧', conjunction) + ')' + formula[right_bracket + 4:]\n",
        "        while '∧(∨)' in formula:\n",
        "            pos = formula.find('∧(∨)')\n",
        "            left_bracket = formula.rfind('(', 0, pos)\n",
        "            right_bracket = formula.find(')', pos)\n",
        "            disjunction = formula[left_bracket + 1: right_bracket]\n",
        "            conjunction = formula[right_bracket + 1: right_bracket + 5]\n",
        "            formula = formula[:left_bracket] + '(' + disjunction.replace('∨', conjunction) + ')' + formula[right_bracket + 5:]\n",
        "        return formula\n",
        "\n",
        "formulas_list = []\n",
        "with open(\"arquivo.txt\", \"r\") as file:\n",
        "    for line in file:\n",
        "        formula = line.strip()\n",
        "        formulas_list.append(formula)\n",
        "\n",
        "for i, formula in enumerate(formulas_list, start=1):\n",
        "    print(\"\\n\")\n",
        "    print(f\"Fórmula original {i} (LaTeX):\")\n",
        "    display(L(f'${formula}$'))\n",
        "    print(\"Fórmula Normal Conjuntiva (FNC) (LaTeX):\")\n",
        "    ncf_formula = normalize_formula(1, formula)\n",
        "    display(L(f'${convert_to_latex(ncf_formula)}$'))\n",
        "    print(\"Fórmula Normal Conjuntiva (FNC) (LaTeX):\")\n",
        "    ndf_formula = normalize_formula(2, formula)\n",
        "    display(L(f'${convert_to_latex(ndf_formula)}$'))\n",
        "    print(\"\\n\")"
      ]
    }
  ]
}
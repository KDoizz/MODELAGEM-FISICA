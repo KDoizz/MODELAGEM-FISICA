{
  "nbformat": 4,
  "nbformat_minor": 0,
  "metadata": {
    "colab": {
      "provenance": [],
      "authorship_tag": "ABX9TyP/DOnAtgvneT61zl1NWK8X",
      "include_colab_link": true
    },
    "kernelspec": {
      "name": "python3",
      "display_name": "Python 3"
    },
    "language_info": {
      "name": "python"
    }
  },
  "cells": [
    {
      "cell_type": "markdown",
      "metadata": {
        "id": "view-in-github",
        "colab_type": "text"
      },
      "source": [
        "<a href=\"https://colab.research.google.com/github/KDoizz/MODELAGEM-FISICA/blob/TRABALHOS-FRANK/Trabalho_2.ipynb\" target=\"_parent\"><img src=\"https://colab.research.google.com/assets/colab-badge.svg\" alt=\"Open In Colab\"/></a>"
      ]
    },
    {
      "cell_type": "markdown",
      "source": [
        "Exercício 1"
      ],
      "metadata": {
        "id": "ff95DNnGJkEH"
      }
    },
    {
      "cell_type": "code",
      "execution_count": 3,
      "metadata": {
        "colab": {
          "base_uri": "https://localhost:8080/"
        },
        "id": "9CXxRQOTGYOT",
        "outputId": "d8a0c7e5-f753-4a1d-b79a-10db5450d1ee"
      },
      "outputs": [
        {
          "output_type": "stream",
          "name": "stdout",
          "text": [
            "Limite pela esquerda:  5\n",
            "Limite pela direita:  5\n"
          ]
        }
      ],
      "source": [
        "from sympy import *\n",
        "\n",
        "x = symbols('x')\n",
        "\n",
        "f = (x**2 - 4) / (x - 2)\n",
        "\n",
        "lim_esq = limit(f, x, 3, dir='-')\n",
        "\n",
        "lim_dir = limit(f, x, 3, dir='+')\n",
        "\n",
        "print(\"Limite pela esquerda: \", lim_esq)\n",
        "print(\"Limite pela direita: \", lim_dir)"
      ]
    },
    {
      "cell_type": "markdown",
      "source": [
        "Exercício 2"
      ],
      "metadata": {
        "id": "Iexo00x6Jn1c"
      }
    },
    {
      "cell_type": "code",
      "source": [
        "from sympy import *\n",
        "x = symbols('x')\n",
        "\n",
        "# Limite 1\n",
        "f1 = (x**2 - 3*x + 2) / (x - 1)\n",
        "lim1 = limit(f1, x, 1)\n",
        "print(\"Limite 1:\", lim1)\n",
        "\n",
        "# Limite 2\n",
        "f2 = (3*x**2 - 2*x - 5) / (x - 2)\n",
        "lim2 = limit(f2, x, 2)\n",
        "print(\"Limite 2:\", lim2)"
      ],
      "metadata": {
        "colab": {
          "base_uri": "https://localhost:8080/"
        },
        "id": "RhoWEHyfGpAt",
        "outputId": "40bdeae3-c8e7-463f-f0d6-865fc16281d3"
      },
      "execution_count": 5,
      "outputs": [
        {
          "output_type": "stream",
          "name": "stdout",
          "text": [
            "Limite 1: -1\n",
            "Limite 2: oo\n"
          ]
        }
      ]
    },
    {
      "cell_type": "markdown",
      "source": [
        "Exercício 3"
      ],
      "metadata": {
        "id": "zvRDGKQqJpjv"
      }
    },
    {
      "cell_type": "code",
      "source": [
        "from sympy import *\n",
        "import matplotlib.pyplot as plt\n",
        "import numpy as np\n",
        "\n",
        "# Definindo\n",
        "x = symbols('x')\n",
        "f1 = sqrt(x)-8+3\n",
        "f2 = (2*x**2-5*x+3)/(2*x**2-3*x)\n",
        "f3 = (sqrt(x)-3)/(x-9)\n",
        "f4 = Piecewise((x**2+3, x>=-3), (-2*x+6, x<-3))\n",
        "\n",
        "# Resolvendo\n",
        "lim1 = limit(f1, x, 9)\n",
        "lim2 = limit(f2, x, 3/2)\n",
        "lim3 = limit(f3, x, 9)\n",
        "lim4 = limit(f4, x, -3, dir='-')\n",
        "\n",
        "# Print\n",
        "print(\"Limite 1: \", lim1)\n",
        "print(\"Limite 2: \", lim2)\n",
        "print(\"Limite 3: \", lim3)\n",
        "print(\"Limite 4: \", lim4)\n",
        "\n",
        "# Gráfico\n",
        "x_values = np.linspace(-10, 10, 1000)\n",
        "y1 = np.array([f1.subs(x, i) for i in x_values])\n",
        "y2 = np.array([f2.subs(x, i) for i in x_values])"
      ],
      "metadata": {
        "colab": {
          "base_uri": "https://localhost:8080/"
        },
        "id": "3-5FirtXJrgj",
        "outputId": "1796383a-b8cb-4e41-ab1b-8650236fead7"
      },
      "execution_count": 6,
      "outputs": [
        {
          "output_type": "stream",
          "name": "stdout",
          "text": [
            "Limite 1:  -2\n",
            "Limite 2:  0.333333333333333\n",
            "Limite 3:  1/6\n",
            "Limite 4:  12\n"
          ]
        }
      ]
    },
    {
      "cell_type": "markdown",
      "source": [
        "Exercício 4"
      ],
      "metadata": {
        "id": "YwOItuCPJsDJ"
      }
    },
    {
      "cell_type": "code",
      "source": [
        "import numpy as np\n",
        "import matplotlib.pyplot as plt\n",
        "from sympy import *\n",
        "\n",
        "# Definindo\n",
        "x = symbols('x')\n",
        "f1 = (x - 3) / (7 - x)\n",
        "f2 = 1 / (x**2 + 5*x)\n",
        "f3 = (x - 1) / (x**2 + 5*x - 6)\n",
        "f4 = (3 + x) / (x**2 - 2)\n",
        "\n",
        "# Resolvendo\n",
        "lim1 = limit(f1, x, 7)\n",
        "lim2 = limit(f2, x, oo)\n",
        "lim3 = limit(f3, x, oo)\n",
        "lim4 = limit(f4, x, oo)\n",
        "\n",
        "# Gráfico\n",
        "x_values = np.linspace(-10, 10, 1000)\n",
        "\n",
        "plt.figure(figsize=(12, 8))\n",
        "\n",
        "plt.subplot(2, 2, 1)\n",
        "y1 = np.array([f1.subs(x, i) for i in x_values])\n",
        "plt.plot(x_values, y1, label='$f(x)=(x-3)/(7-x)$')\n",
        "plt.plot([7], [lim1], 'ro', label='limite = ' + str(lim1))\n",
        "plt.legend()\n",
        "\n",
        "plt.subplot(2, 2, 2)\n",
        "y2 = np.array([f2.subs(x, i) for i in x_values])\n",
        "plt.plot(x_values, y2, label='$f(x)=1/(x^2+5x)$')\n",
        "plt.plot([np.inf, -np.inf], [lim2, lim2], 'ro', label='limite = ' + str(lim2))\n",
        "plt.legend()\n",
        "\n",
        "plt.subplot(2, 2, 3)\n",
        "y3 = np.array([f3.subs(x, i) for i in x_values])\n",
        "plt.plot(x_values, y3, label='$f(x)=(x-1)/(x^2+5x-6)$')\n",
        "plt.plot([np.inf, -np.inf], [lim3, lim3], 'ro', label='limite = ' + str(lim3))\n",
        "plt.legend()\n",
        "\n",
        "plt.subplot(2, 2, 4)\n",
        "y4 = np.array([f4.subs(x, i) for i in x_values])\n",
        "plt.plot(x_values, y4, label='$f(x)=(3+x)/(x^2-2)$')\n",
        "plt.plot([np.inf, -np.inf], [lim4, lim4], 'ro', label='limite = ' + str(lim4))\n",
        "plt.legend()\n",
        "\n",
        "plt.show()"
      ],
      "metadata": {
        "colab": {
          "base_uri": "https://localhost:8080/",
          "height": 440
        },
        "id": "WTfL5ZN6JtMH",
        "outputId": "d5f85116-21ce-4981-a4ef-68cf562317b3"
      },
      "execution_count": 7,
      "outputs": [
        {
          "output_type": "display_data",
          "data": {
            "text/plain": [
              "<Figure size 864x576 with 4 Axes>"
            ],
            "image/png": "[encoded data removed]"
          },
          "metadata": {
            "needs_background": "light"
          }
        }
      ]
    }
  ]
}